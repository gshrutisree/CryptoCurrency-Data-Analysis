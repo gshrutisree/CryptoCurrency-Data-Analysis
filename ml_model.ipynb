{
 "cells": [
  {
   "cell_type": "code",
   "execution_count": 4,
   "id": "d3aab1b5-d519-47db-b34e-abecc352e1c6",
   "metadata": {},
   "outputs": [],
   "source": [
    "# import pandas as pd\n",
    "# from sklearn.model_selection import train_test_split\n",
    "# from sklearn.linear_model import LinearRegression\n",
    "# from sklearn.metrics import mean_squared_error, r2_score\n",
    "\n",
    "# # Load the CSV data\n",
    "# data = pd.read_csv('data1.csv')\n",
    "\n",
    "# # Display the DataFrame\n",
    "# print(\"DataFrame loaded successfully:\")\n",
    "# print(data)\n",
    "\n",
    "# # Define features and target variable\n",
    "# # Adjust these column names based on your actual CSV structure\n",
    "# X = data[['Days_Since_High_Last_30_Days', 'Days_Since_Low_Last_30_Days', \n",
    "#            '%Diff_From_High_Last_30_Days', '%Diff_From_Low_Last_30_Days', \n",
    "#            '%Diff_From_High_Next_15_Days', '%Diff_From_Low_Next_15_Days']]\n",
    "# y_high = data['%Diff_From_High_Next_15_Days']\n",
    "# y_low = data['%Diff_From_Low_Next_15_Days']\n",
    "\n",
    "# # Split the data into training and testing sets\n",
    "# X_train, X_test, y_train_high, y_test_high = train_test_split(X, y_high, test_size=0.2, random_state=42)\n",
    "# X_train, X_test, y_train_low, y_test_low = train_test_split(X, y_low, test_size=0.2, random_state=42)\n",
    "\n",
    "# # Initialize the model\n",
    "# model_high = LinearRegression()\n",
    "# model_low = LinearRegression()\n",
    "\n",
    "# # Fit the model for high predictions\n",
    "# model_high.fit(X_train, y_train_high)\n",
    "\n",
    "# # Predict and evaluate the model for high predictions\n",
    "# y_pred_high = model_high.predict(X_test)\n",
    "# mse_high = mean_squared_error(y_test_high, y_pred_high)\n",
    "# r2_high = r2_score(y_test_high, y_pred_high)\n",
    "\n",
    "# print(\"High Prediction Model Performance:\")\n",
    "# print(f\"Mean Squared Error: {mse_high}\")\n",
    "# print(f\"R^2 Score: {r2_high}\")\n",
    "\n",
    "# # Fit the model for low predictions\n",
    "# model_low.fit(X_train, y_train_low)\n",
    "\n",
    "# # Predict and evaluate the model for low predictions\n",
    "# y_pred_low = model_low.predict(X_test)\n",
    "# mse_low = mean_squared_error(y_test_low, y_pred_low)\n",
    "# r2_low = r2_score(y_test_low, y_pred_low)\n",
    "\n",
    "# print(\"Low Prediction Model Performance:\")\n",
    "# print(f\"Mean Squared Error: {mse_low}\")\n",
    "# print(f\"R^2 Score: {r2_low}\")\n"
   ]
  },
  {
   "cell_type": "code",
   "execution_count": 5,
   "id": "89cc1067-3b77-40d5-aca7-9ce7ed6a442d",
   "metadata": {},
   "outputs": [],
   "source": [
    "import pandas as pd\n",
    "from sklearn.model_selection import train_test_split\n",
    "from sklearn.linear_model import LinearRegression\n",
    "from sklearn.metrics import mean_squared_error, r2_score\n"
   ]
  },
  {
   "cell_type": "code",
   "execution_count": 6,
   "id": "1a74278e-c812-408d-a93e-bcf0ed6522d1",
   "metadata": {},
   "outputs": [],
   "source": [
    "def train_model(data):\n",
    "    X = data[['Days_Since_High_Last_30_Days', 'Days_Since_Low_Last_30_Days', \n",
    "               '%Diff_From_High_Last_30_Days', '%Diff_From_Low_Last_30_Days']]\n",
    "    y_high = data['%Diff_From_High_Next_15_Days']\n",
    "    y_low = data['%Diff_From_Low_Next_15_Days']\n",
    "\n",
    "    # Split the data into training and testing sets\n",
    "    X_train, X_test, y_train_high, y_test_high = train_test_split(X, y_high, test_size=0.2, random_state=42)\n",
    "    X_train_low, X_test_low, y_train_low, y_test_low = train_test_split(X, y_low, test_size=0.2, random_state=42)\n",
    "\n",
    "    # Initialize the model\n",
    "    model_high = LinearRegression()\n",
    "    model_low = LinearRegression()\n",
    "\n",
    "    # Fit the model for high predictions\n",
    "    model_high.fit(X_train, y_train_high)\n",
    "    y_pred_high = model_high.predict(X_test)\n",
    "    mse_high = mean_squared_error(y_test_high, y_pred_high)\n",
    "    r2_high = r2_score(y_test_high, y_pred_high)\n",
    "\n",
    "    # Fit the model for low predictions\n",
    "    model_low.fit(X_train_low, y_train_low)\n",
    "    y_pred_low = model_low.predict(X_test_low)\n",
    "    mse_low = mean_squared_error(y_test_low, y_pred_low)\n",
    "    r2_low = r2_score(y_test_low, y_pred_low)\n",
    "\n",
    "    return model_high, model_low, mse_high, r2_high, mse_low, r2_low\n"
   ]
  },
  {
   "cell_type": "code",
   "execution_count": 7,
   "id": "4e264252-9806-4009-afd8-964125ae9598",
   "metadata": {},
   "outputs": [],
   "source": [
    "def predict_outcomes(model_high, model_low, features):\n",
    "    predicted_high = model_high.predict([features])[0]\n",
    "    predicted_low = model_low.predict([features])[0]\n",
    "    return predicted_high, predicted_low\n"
   ]
  },
  {
   "cell_type": "code",
   "execution_count": 8,
   "id": "57b1dd27-0de1-480b-b132-7f730fe16b72",
   "metadata": {},
   "outputs": [
    {
     "name": "stdout",
     "output_type": "stream",
     "text": [
      "High Prediction Model Performance:\n",
      "Mean Squared Error: 0.10714107991402295\n",
      "R^2 Score: 0.74641164517391\n",
      "Low Prediction Model Performance:\n",
      "Mean Squared Error: 0.23019313055516102\n",
      "R^2 Score: -0.43870706596975717\n"
     ]
    }
   ],
   "source": [
    "if __name__ == \"__main__\":\n",
    "    data = pd.read_csv('data1.csv')\n",
    "    model_high, model_low, mse_high, r2_high, mse_low, r2_low = train_model(data)\n",
    "    print(\"High Prediction Model Performance:\")\n",
    "    print(f\"Mean Squared Error: {mse_high}\")\n",
    "    print(f\"R^2 Score: {r2_high}\")\n",
    "    print(\"Low Prediction Model Performance:\")\n",
    "    print(f\"Mean Squared Error: {mse_low}\")\n",
    "    print(f\"R^2 Score: {r2_low}\")\n"
   ]
  },
  {
   "cell_type": "code",
   "execution_count": null,
   "id": "23146f73-1880-4884-8aa5-000d343d3db6",
   "metadata": {},
   "outputs": [],
   "source": []
  }
 ],
 "metadata": {
  "kernelspec": {
   "display_name": "Python 3 (ipykernel)",
   "language": "python",
   "name": "python3"
  },
  "language_info": {
   "codemirror_mode": {
    "name": "ipython",
    "version": 3
   },
   "file_extension": ".py",
   "mimetype": "text/x-python",
   "name": "python",
   "nbconvert_exporter": "python",
   "pygments_lexer": "ipython3",
   "version": "3.12.5"
  }
 },
 "nbformat": 4,
 "nbformat_minor": 5
}
